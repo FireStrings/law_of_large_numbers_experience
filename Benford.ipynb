{
 "cells": [
  {
   "cell_type": "code",
   "execution_count": 20,
   "metadata": {},
   "outputs": [],
   "source": [
    "import random\n",
    "import time\n",
    "import pandas as pd\n",
    "import seaborn as sns\n",
    "import numpy as np\n",
    "import os"
   ]
  },
  {
   "cell_type": "code",
   "execution_count": 47,
   "metadata": {},
   "outputs": [],
   "source": [
    "data = pd.read_csv(\"../../data/brazEcommerce/olist_order_payments_dataset.csv\")"
   ]
  },
  {
   "cell_type": "code",
   "execution_count": 48,
   "metadata": {},
   "outputs": [],
   "source": [
    "l = []\n",
    "for i in data.payment_value.values.tolist():\n",
    "    l.append(str(i)[0])"
   ]
  },
  {
   "cell_type": "code",
   "execution_count": 49,
   "metadata": {},
   "outputs": [],
   "source": [
    "counts = np.bincount(l)"
   ]
  },
  {
   "cell_type": "code",
   "execution_count": 46,
   "metadata": {},
   "outputs": [
    {
     "name": "stdout",
     "output_type": "stream",
     "text": [
      "0 0.00%\n",
      "1 0.31%\n",
      "2 0.15%\n",
      "3 0.10%\n",
      "4 0.09%\n",
      "5 0.09%\n",
      "6 0.06%\n",
      "7 0.05%\n",
      "8 0.05%\n",
      "9 0.05%\n"
     ]
    }
   ],
   "source": [
    "for i, j in enumerate(counts):\n",
    "    perc = \"{:.16f}\".format(float(str(j/len(l))))[0:4] + \"%\"\n",
    "\n",
    "    print(i, perc)"
   ]
  },
  {
   "cell_type": "code",
   "execution_count": 50,
   "metadata": {},
   "outputs": [
    {
     "name": "stdout",
     "output_type": "stream",
     "text": [
      "0 0.00%\n",
      "1 0.33%\n",
      "2 0.13%\n",
      "3 0.10%\n",
      "4 0.08%\n",
      "5 0.07%\n",
      "6 0.07%\n",
      "7 0.06%\n",
      "8 0.05%\n",
      "9 0.05%\n"
     ]
    }
   ],
   "source": [
    "for i, j in enumerate(counts):\n",
    "    perc = \"{:.16f}\".format(float(str(j/len(l))))[0:4] + \"%\"\n",
    "\n",
    "    print(i, perc)"
   ]
  },
  {
   "cell_type": "code",
   "execution_count": null,
   "metadata": {},
   "outputs": [],
   "source": []
  },
  {
   "cell_type": "code",
   "execution_count": null,
   "metadata": {},
   "outputs": [],
   "source": []
  }
 ],
 "metadata": {
  "kernelspec": {
   "display_name": "Python 3 (ipykernel)",
   "language": "python",
   "name": "python3"
  },
  "language_info": {
   "codemirror_mode": {
    "name": "ipython",
    "version": 3
   },
   "file_extension": ".py",
   "mimetype": "text/x-python",
   "name": "python",
   "nbconvert_exporter": "python",
   "pygments_lexer": "ipython3",
   "version": "3.6.9"
  }
 },
 "nbformat": 4,
 "nbformat_minor": 4
}
